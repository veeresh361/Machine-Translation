{
  "nbformat": 4,
  "nbformat_minor": 0,
  "metadata": {
    "colab": {
      "name": "Untitled9.ipynb",
      "provenance": [],
      "collapsed_sections": []
    },
    "kernelspec": {
      "name": "python3",
      "display_name": "Python 3"
    },
    "language_info": {
      "name": "python"
    },
    "accelerator": "GPU"
  },
  "cells": [
    {
      "cell_type": "code",
      "metadata": {
        "id": "Xn0Ydl-x63qs"
      },
      "source": [
        "import pandas as pd\n",
        "import matplotlib.pyplot as plt\n",
        "import seaborn as sns\n",
        "import keras"
      ],
      "execution_count": 1,
      "outputs": []
    },
    {
      "cell_type": "code",
      "metadata": {
        "id": "ce9oVs2_7MZb"
      },
      "source": [
        "from keras.layers import Dense,LSTM,Embedding\n",
        "from keras.models import Sequential\n",
        "from keras.preprocessing.text import Tokenizer\n",
        "from keras.preprocessing.sequence import pad_sequences\n",
        "from keras.utils import to_categorical\n",
        "from keras.layers import RepeatVector,TimeDistributed"
      ],
      "execution_count": 51,
      "outputs": []
    },
    {
      "cell_type": "code",
      "metadata": {
        "id": "AI2tKZHg7XmL"
      },
      "source": [
        "d=pd.read_csv('https://assets.datacamp.com/production/repositories/4605/datasets/73a508c78b5990ab680accf7fd13adcc879b975a/en-pt-sample5k.txt',header=None,sep='\\t',names=['English','Frense'])"
      ],
      "execution_count": 4,
      "outputs": []
    },
    {
      "cell_type": "code",
      "metadata": {
        "colab": {
          "base_uri": "https://localhost:8080/",
          "height": 195
        },
        "id": "36i3uouA7clf",
        "outputId": "ff47ad7b-b0c9-4380-ad93-b4d54c043016"
      },
      "source": [
        "d.head()"
      ],
      "execution_count": 5,
      "outputs": [
        {
          "output_type": "execute_result",
          "data": {
            "text/html": [
              "<div>\n",
              "<style scoped>\n",
              "    .dataframe tbody tr th:only-of-type {\n",
              "        vertical-align: middle;\n",
              "    }\n",
              "\n",
              "    .dataframe tbody tr th {\n",
              "        vertical-align: top;\n",
              "    }\n",
              "\n",
              "    .dataframe thead th {\n",
              "        text-align: right;\n",
              "    }\n",
              "</style>\n",
              "<table border=\"1\" class=\"dataframe\">\n",
              "  <thead>\n",
              "    <tr style=\"text-align: right;\">\n",
              "      <th></th>\n",
              "      <th>English</th>\n",
              "      <th>Frense</th>\n",
              "    </tr>\n",
              "  </thead>\n",
              "  <tbody>\n",
              "    <tr>\n",
              "      <th>0</th>\n",
              "      <td>its my job</td>\n",
              "      <td>é o meu trabalho</td>\n",
              "    </tr>\n",
              "    <tr>\n",
              "      <th>1</th>\n",
              "      <td>wholl cook</td>\n",
              "      <td>quem cozinhará</td>\n",
              "    </tr>\n",
              "    <tr>\n",
              "      <th>2</th>\n",
              "      <td>help me</td>\n",
              "      <td>ajudemme</td>\n",
              "    </tr>\n",
              "    <tr>\n",
              "      <th>3</th>\n",
              "      <td>i sat down</td>\n",
              "      <td>eu me sentei</td>\n",
              "    </tr>\n",
              "    <tr>\n",
              "      <th>4</th>\n",
              "      <td>im worn out</td>\n",
              "      <td>estou exausto</td>\n",
              "    </tr>\n",
              "  </tbody>\n",
              "</table>\n",
              "</div>"
            ],
            "text/plain": [
              "       English            Frense\n",
              "0   its my job  é o meu trabalho\n",
              "1   wholl cook    quem cozinhará\n",
              "2      help me          ajudemme\n",
              "3   i sat down      eu me sentei\n",
              "4  im worn out     estou exausto"
            ]
          },
          "metadata": {
            "tags": []
          },
          "execution_count": 5
        }
      ]
    },
    {
      "cell_type": "code",
      "metadata": {
        "id": "VvjOlbSN7pgr"
      },
      "source": [
        "x=list(d['English'])\n",
        "y=list(d['Frense'])"
      ],
      "execution_count": 14,
      "outputs": []
    },
    {
      "cell_type": "code",
      "metadata": {
        "id": "H2Hb1izO7sYT"
      },
      "source": [
        "eng_token=Tokenizer()\n",
        "french_tokens=Tokenizer()"
      ],
      "execution_count": 15,
      "outputs": []
    },
    {
      "cell_type": "code",
      "metadata": {
        "id": "id3XEjob7wKe"
      },
      "source": [
        "eng_token.fit_on_texts(x)\n",
        "french_tokens.fit_on_texts(y)"
      ],
      "execution_count": 16,
      "outputs": []
    },
    {
      "cell_type": "code",
      "metadata": {
        "id": "NnT3Axbe70gl"
      },
      "source": [
        "x=eng_token.texts_to_sequences(x)\n",
        "y=french_tokens.texts_to_sequences(y)"
      ],
      "execution_count": 17,
      "outputs": []
    },
    {
      "cell_type": "code",
      "metadata": {
        "id": "aGcYjpO375iW"
      },
      "source": [
        "length=max(len(sent.split()) for sent in x)"
      ],
      "execution_count": 13,
      "outputs": []
    },
    {
      "cell_type": "code",
      "metadata": {
        "id": "xCAr7aAO78ux"
      },
      "source": [
        "x=pad_sequences(x,maxlen=length,padding='post')\n",
        "y=pad_sequences(y,maxlen=length,padding='post')"
      ],
      "execution_count": 18,
      "outputs": []
    },
    {
      "cell_type": "code",
      "metadata": {
        "id": "2oDxI_hz8RJc"
      },
      "source": [
        "french_vocab_len=len(french_tokens.index_word)\n",
        "eng_vocab_len=len(eng_token.index_word)"
      ],
      "execution_count": 39,
      "outputs": []
    },
    {
      "cell_type": "code",
      "metadata": {
        "id": "HohlwUaC8OOF"
      },
      "source": [
        "ylist=[]\n",
        "for seq in y:\n",
        "  encoded=to_categorical(seq,num_classes=french_vocab_len+1)\n",
        "  ylist.append(encoded)"
      ],
      "execution_count": 21,
      "outputs": []
    },
    {
      "cell_type": "code",
      "metadata": {
        "id": "bFsVR-Sn8g3G"
      },
      "source": [
        "y=np.array(ylist)"
      ],
      "execution_count": 24,
      "outputs": []
    },
    {
      "cell_type": "code",
      "metadata": {
        "id": "c-pVAUBs8jgF"
      },
      "source": [
        "import numpy as np"
      ],
      "execution_count": 23,
      "outputs": []
    },
    {
      "cell_type": "code",
      "metadata": {
        "colab": {
          "base_uri": "https://localhost:8080/"
        },
        "id": "cic29iLg8lTp",
        "outputId": "f644f894-6d90-4ad8-9148-9ed6a74358e0"
      },
      "source": [
        "y.shape"
      ],
      "execution_count": 25,
      "outputs": [
        {
          "output_type": "execute_result",
          "data": {
            "text/plain": [
              "(5000, 5, 2280)"
            ]
          },
          "metadata": {
            "tags": []
          },
          "execution_count": 25
        }
      ]
    },
    {
      "cell_type": "code",
      "metadata": {
        "id": "ABNIR5Sp8m_q"
      },
      "source": [
        "con=open('/content/glove.6B.50d.txt',encoding='utf-8')"
      ],
      "execution_count": 35,
      "outputs": []
    },
    {
      "cell_type": "code",
      "metadata": {
        "id": "e0H1TrYa8t6c"
      },
      "source": [
        "index={}\n",
        "for line in con:\n",
        "  values=line.split()\n",
        "  word=values[0]\n",
        "  vect=np.asarray(values[1:],dtype='float32')\n",
        "  index[word]=vect"
      ],
      "execution_count": 36,
      "outputs": []
    },
    {
      "cell_type": "code",
      "metadata": {
        "id": "kp-6j5Sp9Odv"
      },
      "source": [
        "matrix=np.zeros((eng_vocab_len+1,50))"
      ],
      "execution_count": 48,
      "outputs": []
    },
    {
      "cell_type": "code",
      "metadata": {
        "id": "o0dgj_k-94fW"
      },
      "source": [
        "for word,i in eng_token.word_index.items():\n",
        "  if i <eng_vocab_len:\n",
        "    vect=index.get(word)\n",
        "    if vect is not None:\n",
        "      matrix[i]=vect"
      ],
      "execution_count": 49,
      "outputs": []
    },
    {
      "cell_type": "code",
      "metadata": {
        "id": "1gf6OZ5O-FcL"
      },
      "source": [
        "model=Sequential()\n",
        "model.add(Embedding(eng_vocab_len+1,50,input_length=length,weights=[matrix]))\n",
        "model.add(LSTM(128))\n",
        "model.add(RepeatVector(length))\n",
        "\n",
        "model.add(LSTM(128,return_sequences=True))\n",
        "model.add(TimeDistributed(Dense(french_vocab_len+1,activation='softmax')))\n",
        "model.compile(loss='categorical_crossentropy',optimizer='adam')\n"
      ],
      "execution_count": 53,
      "outputs": []
    },
    {
      "cell_type": "code",
      "metadata": {
        "colab": {
          "base_uri": "https://localhost:8080/"
        },
        "id": "WxW7JHkb-8lQ",
        "outputId": "d4e70e60-6a29-4b78-f84c-92c01bca97e8"
      },
      "source": [
        "x.shape\n",
        "y.shape"
      ],
      "execution_count": 54,
      "outputs": [
        {
          "output_type": "execute_result",
          "data": {
            "text/plain": [
              "(5000, 5, 2280)"
            ]
          },
          "metadata": {
            "tags": []
          },
          "execution_count": 54
        }
      ]
    },
    {
      "cell_type": "code",
      "metadata": {
        "colab": {
          "base_uri": "https://localhost:8080/"
        },
        "id": "ueJ8a2bFAV4G",
        "outputId": "e0ce57cf-0cf9-45c4-8718-3ef583c87eb9"
      },
      "source": [
        "x.shape"
      ],
      "execution_count": 55,
      "outputs": [
        {
          "output_type": "execute_result",
          "data": {
            "text/plain": [
              "(5000, 5)"
            ]
          },
          "metadata": {
            "tags": []
          },
          "execution_count": 55
        }
      ]
    },
    {
      "cell_type": "code",
      "metadata": {
        "colab": {
          "base_uri": "https://localhost:8080/"
        },
        "id": "d056ldCfAXRr",
        "outputId": "a8ad572f-78a9-4c13-d383-87579b4c0119"
      },
      "source": [
        "model.fit(x,y,epochs=300)"
      ],
      "execution_count": 56,
      "outputs": [
        {
          "output_type": "stream",
          "text": [
            "Epoch 1/300\n",
            "157/157 [==============================] - 35s 7ms/step - loss: 5.0617\n",
            "Epoch 2/300\n",
            "157/157 [==============================] - 1s 7ms/step - loss: 3.4646\n",
            "Epoch 3/300\n",
            "157/157 [==============================] - 1s 6ms/step - loss: 3.3524\n",
            "Epoch 4/300\n",
            "157/157 [==============================] - 1s 7ms/step - loss: 3.2563\n",
            "Epoch 5/300\n",
            "157/157 [==============================] - 1s 6ms/step - loss: 3.1580\n",
            "Epoch 6/300\n",
            "157/157 [==============================] - 1s 7ms/step - loss: 3.0548\n",
            "Epoch 7/300\n",
            "157/157 [==============================] - 1s 7ms/step - loss: 2.9883\n",
            "Epoch 8/300\n",
            "157/157 [==============================] - 1s 7ms/step - loss: 2.8815\n",
            "Epoch 9/300\n",
            "157/157 [==============================] - 1s 7ms/step - loss: 2.7936\n",
            "Epoch 10/300\n",
            "157/157 [==============================] - 1s 7ms/step - loss: 2.6776\n",
            "Epoch 11/300\n",
            "157/157 [==============================] - 1s 7ms/step - loss: 2.5798\n",
            "Epoch 12/300\n",
            "157/157 [==============================] - 1s 7ms/step - loss: 2.4881\n",
            "Epoch 13/300\n",
            "157/157 [==============================] - 1s 7ms/step - loss: 2.3809\n",
            "Epoch 14/300\n",
            "157/157 [==============================] - 1s 7ms/step - loss: 2.3214\n",
            "Epoch 15/300\n",
            "157/157 [==============================] - 1s 6ms/step - loss: 2.1995\n",
            "Epoch 16/300\n",
            "157/157 [==============================] - 1s 7ms/step - loss: 2.1249\n",
            "Epoch 17/300\n",
            "157/157 [==============================] - 1s 7ms/step - loss: 2.0300\n",
            "Epoch 18/300\n",
            "157/157 [==============================] - 1s 7ms/step - loss: 1.9701\n",
            "Epoch 19/300\n",
            "157/157 [==============================] - 1s 6ms/step - loss: 1.8897\n",
            "Epoch 20/300\n",
            "157/157 [==============================] - 1s 7ms/step - loss: 1.8060\n",
            "Epoch 21/300\n",
            "157/157 [==============================] - 1s 7ms/step - loss: 1.7416\n",
            "Epoch 22/300\n",
            "157/157 [==============================] - 1s 7ms/step - loss: 1.6826\n",
            "Epoch 23/300\n",
            "157/157 [==============================] - 1s 7ms/step - loss: 1.6158\n",
            "Epoch 24/300\n",
            "157/157 [==============================] - 1s 7ms/step - loss: 1.5515\n",
            "Epoch 25/300\n",
            "157/157 [==============================] - 1s 7ms/step - loss: 1.5115\n",
            "Epoch 26/300\n",
            "157/157 [==============================] - 1s 7ms/step - loss: 1.4230\n",
            "Epoch 27/300\n",
            "157/157 [==============================] - 1s 7ms/step - loss: 1.3722\n",
            "Epoch 28/300\n",
            "157/157 [==============================] - 1s 7ms/step - loss: 1.3125\n",
            "Epoch 29/300\n",
            "157/157 [==============================] - 1s 7ms/step - loss: 1.2708\n",
            "Epoch 30/300\n",
            "157/157 [==============================] - 1s 7ms/step - loss: 1.2067\n",
            "Epoch 31/300\n",
            "157/157 [==============================] - 1s 7ms/step - loss: 1.1646\n",
            "Epoch 32/300\n",
            "157/157 [==============================] - 1s 7ms/step - loss: 1.1249\n",
            "Epoch 33/300\n",
            "157/157 [==============================] - 1s 7ms/step - loss: 1.0751\n",
            "Epoch 34/300\n",
            "157/157 [==============================] - 1s 7ms/step - loss: 1.0334\n",
            "Epoch 35/300\n",
            "157/157 [==============================] - 1s 7ms/step - loss: 0.9863\n",
            "Epoch 36/300\n",
            "157/157 [==============================] - 1s 7ms/step - loss: 0.9417\n",
            "Epoch 37/300\n",
            "157/157 [==============================] - 1s 7ms/step - loss: 0.9232\n",
            "Epoch 38/300\n",
            "157/157 [==============================] - 1s 7ms/step - loss: 0.8738\n",
            "Epoch 39/300\n",
            "157/157 [==============================] - 1s 7ms/step - loss: 0.8436\n",
            "Epoch 40/300\n",
            "157/157 [==============================] - 1s 7ms/step - loss: 0.8123\n",
            "Epoch 41/300\n",
            "157/157 [==============================] - 1s 7ms/step - loss: 0.7881\n",
            "Epoch 42/300\n",
            "157/157 [==============================] - 1s 7ms/step - loss: 0.7629\n",
            "Epoch 43/300\n",
            "157/157 [==============================] - 1s 7ms/step - loss: 0.7363\n",
            "Epoch 44/300\n",
            "157/157 [==============================] - 1s 7ms/step - loss: 0.7112\n",
            "Epoch 45/300\n",
            "157/157 [==============================] - 1s 7ms/step - loss: 0.6897\n",
            "Epoch 46/300\n",
            "157/157 [==============================] - 1s 7ms/step - loss: 0.6685\n",
            "Epoch 47/300\n",
            "157/157 [==============================] - 1s 7ms/step - loss: 0.6414\n",
            "Epoch 48/300\n",
            "157/157 [==============================] - 1s 7ms/step - loss: 0.6233\n",
            "Epoch 49/300\n",
            "157/157 [==============================] - 1s 7ms/step - loss: 0.5916\n",
            "Epoch 50/300\n",
            "157/157 [==============================] - 1s 7ms/step - loss: 0.5842\n",
            "Epoch 51/300\n",
            "157/157 [==============================] - 1s 7ms/step - loss: 0.5697\n",
            "Epoch 52/300\n",
            "157/157 [==============================] - 1s 7ms/step - loss: 0.5503\n",
            "Epoch 53/300\n",
            "157/157 [==============================] - 1s 6ms/step - loss: 0.5415\n",
            "Epoch 54/300\n",
            "157/157 [==============================] - 1s 7ms/step - loss: 0.5305\n",
            "Epoch 55/300\n",
            "157/157 [==============================] - 1s 7ms/step - loss: 0.5155\n",
            "Epoch 56/300\n",
            "157/157 [==============================] - 1s 7ms/step - loss: 0.5203\n",
            "Epoch 57/300\n",
            "157/157 [==============================] - 1s 7ms/step - loss: 0.5019\n",
            "Epoch 58/300\n",
            "157/157 [==============================] - 1s 7ms/step - loss: 0.4857\n",
            "Epoch 59/300\n",
            "157/157 [==============================] - 1s 7ms/step - loss: 0.4706\n",
            "Epoch 60/300\n",
            "157/157 [==============================] - 1s 7ms/step - loss: 0.4712\n",
            "Epoch 61/300\n",
            "157/157 [==============================] - 1s 7ms/step - loss: 0.4556\n",
            "Epoch 62/300\n",
            "157/157 [==============================] - 1s 7ms/step - loss: 0.4565\n",
            "Epoch 63/300\n",
            "157/157 [==============================] - 1s 7ms/step - loss: 0.4353\n",
            "Epoch 64/300\n",
            "157/157 [==============================] - 1s 7ms/step - loss: 0.4310\n",
            "Epoch 65/300\n",
            "157/157 [==============================] - 1s 7ms/step - loss: 0.4353\n",
            "Epoch 66/300\n",
            "157/157 [==============================] - 1s 7ms/step - loss: 0.4269\n",
            "Epoch 67/300\n",
            "157/157 [==============================] - 1s 7ms/step - loss: 0.4315\n",
            "Epoch 68/300\n",
            "157/157 [==============================] - 1s 7ms/step - loss: 0.4035\n",
            "Epoch 69/300\n",
            "157/157 [==============================] - 1s 7ms/step - loss: 0.4059\n",
            "Epoch 70/300\n",
            "157/157 [==============================] - 1s 7ms/step - loss: 0.4034\n",
            "Epoch 71/300\n",
            "157/157 [==============================] - 1s 7ms/step - loss: 0.4017\n",
            "Epoch 72/300\n",
            "157/157 [==============================] - 1s 7ms/step - loss: 0.3876\n",
            "Epoch 73/300\n",
            "157/157 [==============================] - 1s 7ms/step - loss: 0.3838\n",
            "Epoch 74/300\n",
            "157/157 [==============================] - 1s 7ms/step - loss: 0.3860\n",
            "Epoch 75/300\n",
            "157/157 [==============================] - 1s 7ms/step - loss: 0.3685\n",
            "Epoch 76/300\n",
            "157/157 [==============================] - 1s 7ms/step - loss: 0.3879\n",
            "Epoch 77/300\n",
            "157/157 [==============================] - 1s 7ms/step - loss: 0.3758\n",
            "Epoch 78/300\n",
            "157/157 [==============================] - 1s 7ms/step - loss: 0.3744\n",
            "Epoch 79/300\n",
            "157/157 [==============================] - 1s 7ms/step - loss: 0.3625\n",
            "Epoch 80/300\n",
            "157/157 [==============================] - 1s 7ms/step - loss: 0.3654\n",
            "Epoch 81/300\n",
            "157/157 [==============================] - 1s 7ms/step - loss: 0.3513\n",
            "Epoch 82/300\n",
            "157/157 [==============================] - 1s 7ms/step - loss: 0.3599\n",
            "Epoch 83/300\n",
            "157/157 [==============================] - 1s 7ms/step - loss: 0.3528\n",
            "Epoch 84/300\n",
            "157/157 [==============================] - 1s 7ms/step - loss: 0.3446\n",
            "Epoch 85/300\n",
            "157/157 [==============================] - 1s 7ms/step - loss: 0.3463\n",
            "Epoch 86/300\n",
            "157/157 [==============================] - 1s 7ms/step - loss: 0.3481\n",
            "Epoch 87/300\n",
            "157/157 [==============================] - 1s 7ms/step - loss: 0.3492\n",
            "Epoch 88/300\n",
            "157/157 [==============================] - 1s 7ms/step - loss: 0.3508\n",
            "Epoch 89/300\n",
            "157/157 [==============================] - 1s 7ms/step - loss: 0.3390\n",
            "Epoch 90/300\n",
            "157/157 [==============================] - 1s 7ms/step - loss: 0.3425\n",
            "Epoch 91/300\n",
            "157/157 [==============================] - 1s 7ms/step - loss: 0.3461\n",
            "Epoch 92/300\n",
            "157/157 [==============================] - 1s 7ms/step - loss: 0.3520\n",
            "Epoch 93/300\n",
            "157/157 [==============================] - 1s 7ms/step - loss: 0.3389\n",
            "Epoch 94/300\n",
            "157/157 [==============================] - 1s 7ms/step - loss: 0.3339\n",
            "Epoch 95/300\n",
            "157/157 [==============================] - 1s 7ms/step - loss: 0.3316\n",
            "Epoch 96/300\n",
            "157/157 [==============================] - 1s 7ms/step - loss: 0.3363\n",
            "Epoch 97/300\n",
            "157/157 [==============================] - 1s 7ms/step - loss: 0.3344\n",
            "Epoch 98/300\n",
            "157/157 [==============================] - 1s 7ms/step - loss: 0.3311\n",
            "Epoch 99/300\n",
            "157/157 [==============================] - 1s 7ms/step - loss: 0.3245\n",
            "Epoch 100/300\n",
            "157/157 [==============================] - 1s 7ms/step - loss: 0.3336\n",
            "Epoch 101/300\n",
            "157/157 [==============================] - 1s 7ms/step - loss: 0.3319\n",
            "Epoch 102/300\n",
            "157/157 [==============================] - 1s 7ms/step - loss: 0.3317\n",
            "Epoch 103/300\n",
            "157/157 [==============================] - 1s 7ms/step - loss: 0.3208\n",
            "Epoch 104/300\n",
            "157/157 [==============================] - 1s 7ms/step - loss: 0.3214\n",
            "Epoch 105/300\n",
            "157/157 [==============================] - 1s 7ms/step - loss: 0.3193\n",
            "Epoch 106/300\n",
            "157/157 [==============================] - 1s 7ms/step - loss: 0.3223\n",
            "Epoch 107/300\n",
            "157/157 [==============================] - 1s 7ms/step - loss: 0.3202\n",
            "Epoch 108/300\n",
            "157/157 [==============================] - 1s 7ms/step - loss: 0.3153\n",
            "Epoch 109/300\n",
            "157/157 [==============================] - 1s 7ms/step - loss: 0.3176\n",
            "Epoch 110/300\n",
            "157/157 [==============================] - 1s 7ms/step - loss: 0.3191\n",
            "Epoch 111/300\n",
            "157/157 [==============================] - 1s 7ms/step - loss: 0.3171\n",
            "Epoch 112/300\n",
            "157/157 [==============================] - 1s 7ms/step - loss: 0.3182\n",
            "Epoch 113/300\n",
            "157/157 [==============================] - 1s 7ms/step - loss: 0.3181\n",
            "Epoch 114/300\n",
            "157/157 [==============================] - 1s 7ms/step - loss: 0.3074\n",
            "Epoch 115/300\n",
            "157/157 [==============================] - 1s 7ms/step - loss: 0.3158\n",
            "Epoch 116/300\n",
            "157/157 [==============================] - 1s 7ms/step - loss: 0.3159\n",
            "Epoch 117/300\n",
            "157/157 [==============================] - 1s 7ms/step - loss: 0.3292\n",
            "Epoch 118/300\n",
            "157/157 [==============================] - 1s 7ms/step - loss: 0.3118\n",
            "Epoch 119/300\n",
            "157/157 [==============================] - 1s 7ms/step - loss: 0.3076\n",
            "Epoch 120/300\n",
            "157/157 [==============================] - 1s 7ms/step - loss: 0.3065\n",
            "Epoch 121/300\n",
            "157/157 [==============================] - 1s 7ms/step - loss: 0.3134\n",
            "Epoch 122/300\n",
            "157/157 [==============================] - 1s 7ms/step - loss: 0.3021\n",
            "Epoch 123/300\n",
            "157/157 [==============================] - 1s 7ms/step - loss: 0.3102\n",
            "Epoch 124/300\n",
            "157/157 [==============================] - 1s 7ms/step - loss: 0.3003\n",
            "Epoch 125/300\n",
            "157/157 [==============================] - 1s 7ms/step - loss: 0.3081\n",
            "Epoch 126/300\n",
            "157/157 [==============================] - 1s 7ms/step - loss: 0.3078\n",
            "Epoch 127/300\n",
            "157/157 [==============================] - 1s 7ms/step - loss: 0.3044\n",
            "Epoch 128/300\n",
            "157/157 [==============================] - 1s 7ms/step - loss: 0.3118\n",
            "Epoch 129/300\n",
            "157/157 [==============================] - 1s 7ms/step - loss: 0.3071\n",
            "Epoch 130/300\n",
            "157/157 [==============================] - 1s 7ms/step - loss: 0.3063\n",
            "Epoch 131/300\n",
            "157/157 [==============================] - 1s 7ms/step - loss: 0.3036\n",
            "Epoch 132/300\n",
            "157/157 [==============================] - 1s 7ms/step - loss: 0.2980\n",
            "Epoch 133/300\n",
            "157/157 [==============================] - 1s 7ms/step - loss: 0.2914\n",
            "Epoch 134/300\n",
            "157/157 [==============================] - 1s 7ms/step - loss: 0.3027\n",
            "Epoch 135/300\n",
            "157/157 [==============================] - 1s 7ms/step - loss: 0.2973\n",
            "Epoch 136/300\n",
            "157/157 [==============================] - 1s 7ms/step - loss: 0.3045\n",
            "Epoch 137/300\n",
            "157/157 [==============================] - 1s 7ms/step - loss: 0.3114\n",
            "Epoch 138/300\n",
            "157/157 [==============================] - 1s 7ms/step - loss: 0.2971\n",
            "Epoch 139/300\n",
            "157/157 [==============================] - 1s 7ms/step - loss: 0.2963\n",
            "Epoch 140/300\n",
            "157/157 [==============================] - 1s 7ms/step - loss: 0.2889\n",
            "Epoch 141/300\n",
            "157/157 [==============================] - 1s 7ms/step - loss: 0.3021\n",
            "Epoch 142/300\n",
            "157/157 [==============================] - 1s 7ms/step - loss: 0.2962\n",
            "Epoch 143/300\n",
            "157/157 [==============================] - 1s 7ms/step - loss: 0.3036\n",
            "Epoch 144/300\n",
            "157/157 [==============================] - 1s 7ms/step - loss: 0.3005\n",
            "Epoch 145/300\n",
            "157/157 [==============================] - 1s 7ms/step - loss: 0.2991\n",
            "Epoch 146/300\n",
            "157/157 [==============================] - 1s 7ms/step - loss: 0.3048\n",
            "Epoch 147/300\n",
            "157/157 [==============================] - 1s 7ms/step - loss: 0.2894\n",
            "Epoch 148/300\n",
            "157/157 [==============================] - 1s 7ms/step - loss: 0.2962\n",
            "Epoch 149/300\n",
            "157/157 [==============================] - 1s 7ms/step - loss: 0.2951\n",
            "Epoch 150/300\n",
            "157/157 [==============================] - 1s 7ms/step - loss: 0.2985\n",
            "Epoch 151/300\n",
            "157/157 [==============================] - 1s 7ms/step - loss: 0.2915\n",
            "Epoch 152/300\n",
            "157/157 [==============================] - 1s 7ms/step - loss: 0.2922\n",
            "Epoch 153/300\n",
            "157/157 [==============================] - 1s 7ms/step - loss: 0.2996\n",
            "Epoch 154/300\n",
            "157/157 [==============================] - 1s 7ms/step - loss: 0.3026\n",
            "Epoch 155/300\n",
            "157/157 [==============================] - 1s 7ms/step - loss: 0.2966\n",
            "Epoch 156/300\n",
            "157/157 [==============================] - 1s 7ms/step - loss: 0.2981\n",
            "Epoch 157/300\n",
            "157/157 [==============================] - 1s 7ms/step - loss: 0.2950\n",
            "Epoch 158/300\n",
            "157/157 [==============================] - 1s 7ms/step - loss: 0.3024\n",
            "Epoch 159/300\n",
            "157/157 [==============================] - 1s 7ms/step - loss: 0.2903\n",
            "Epoch 160/300\n",
            "157/157 [==============================] - 1s 7ms/step - loss: 0.3069\n",
            "Epoch 161/300\n",
            "157/157 [==============================] - 1s 7ms/step - loss: 0.2943\n",
            "Epoch 162/300\n",
            "157/157 [==============================] - 1s 7ms/step - loss: 0.2922\n",
            "Epoch 163/300\n",
            "157/157 [==============================] - 1s 7ms/step - loss: 0.2901\n",
            "Epoch 164/300\n",
            "157/157 [==============================] - 1s 7ms/step - loss: 0.2921\n",
            "Epoch 165/300\n",
            "157/157 [==============================] - 1s 7ms/step - loss: 0.2953\n",
            "Epoch 166/300\n",
            "157/157 [==============================] - 1s 7ms/step - loss: 0.2898\n",
            "Epoch 167/300\n",
            "157/157 [==============================] - 1s 7ms/step - loss: 0.3058\n",
            "Epoch 168/300\n",
            "157/157 [==============================] - 1s 7ms/step - loss: 0.2868\n",
            "Epoch 169/300\n",
            "157/157 [==============================] - 1s 7ms/step - loss: 0.2916\n",
            "Epoch 170/300\n",
            "157/157 [==============================] - 1s 7ms/step - loss: 0.2958\n",
            "Epoch 171/300\n",
            "157/157 [==============================] - 1s 7ms/step - loss: 0.2984\n",
            "Epoch 172/300\n",
            "157/157 [==============================] - 1s 7ms/step - loss: 0.3030\n",
            "Epoch 173/300\n",
            "157/157 [==============================] - 1s 7ms/step - loss: 0.2891\n",
            "Epoch 174/300\n",
            "157/157 [==============================] - 1s 7ms/step - loss: 0.2892\n",
            "Epoch 175/300\n",
            "157/157 [==============================] - 1s 7ms/step - loss: 0.2896\n",
            "Epoch 176/300\n",
            "157/157 [==============================] - 1s 7ms/step - loss: 0.2849\n",
            "Epoch 177/300\n",
            "157/157 [==============================] - 1s 7ms/step - loss: 0.2960\n",
            "Epoch 178/300\n",
            "157/157 [==============================] - 1s 7ms/step - loss: 0.2880\n",
            "Epoch 179/300\n",
            "157/157 [==============================] - 1s 7ms/step - loss: 0.2869\n",
            "Epoch 180/300\n",
            "157/157 [==============================] - 1s 7ms/step - loss: 0.2890\n",
            "Epoch 181/300\n",
            "157/157 [==============================] - 1s 7ms/step - loss: 0.2886\n",
            "Epoch 182/300\n",
            "157/157 [==============================] - 1s 7ms/step - loss: 0.2830\n",
            "Epoch 183/300\n",
            "157/157 [==============================] - 1s 7ms/step - loss: 0.2893\n",
            "Epoch 184/300\n",
            "157/157 [==============================] - 1s 7ms/step - loss: 0.2943\n",
            "Epoch 185/300\n",
            "157/157 [==============================] - 1s 7ms/step - loss: 0.2961\n",
            "Epoch 186/300\n",
            "157/157 [==============================] - 1s 7ms/step - loss: 0.2953\n",
            "Epoch 187/300\n",
            "157/157 [==============================] - 1s 7ms/step - loss: 0.2908\n",
            "Epoch 188/300\n",
            "157/157 [==============================] - 1s 7ms/step - loss: 0.2853\n",
            "Epoch 189/300\n",
            "157/157 [==============================] - 1s 7ms/step - loss: 0.2822\n",
            "Epoch 190/300\n",
            "157/157 [==============================] - 1s 7ms/step - loss: 0.2861\n",
            "Epoch 191/300\n",
            "157/157 [==============================] - 1s 7ms/step - loss: 0.2922\n",
            "Epoch 192/300\n",
            "157/157 [==============================] - 1s 7ms/step - loss: 0.2869\n",
            "Epoch 193/300\n",
            "157/157 [==============================] - 1s 7ms/step - loss: 0.2848\n",
            "Epoch 194/300\n",
            "157/157 [==============================] - 1s 7ms/step - loss: 0.2871\n",
            "Epoch 195/300\n",
            "157/157 [==============================] - 1s 7ms/step - loss: 0.2840\n",
            "Epoch 196/300\n",
            "157/157 [==============================] - 1s 7ms/step - loss: 0.2884\n",
            "Epoch 197/300\n",
            "157/157 [==============================] - 1s 7ms/step - loss: 0.2883\n",
            "Epoch 198/300\n",
            "157/157 [==============================] - 1s 7ms/step - loss: 0.2931\n",
            "Epoch 199/300\n",
            "157/157 [==============================] - 1s 7ms/step - loss: 0.2937\n",
            "Epoch 200/300\n",
            "157/157 [==============================] - 1s 7ms/step - loss: 0.2894\n",
            "Epoch 201/300\n",
            "157/157 [==============================] - 1s 7ms/step - loss: 0.2894\n",
            "Epoch 202/300\n",
            "157/157 [==============================] - 1s 7ms/step - loss: 0.2873\n",
            "Epoch 203/300\n",
            "157/157 [==============================] - 1s 7ms/step - loss: 0.2875\n",
            "Epoch 204/300\n",
            "157/157 [==============================] - 1s 7ms/step - loss: 0.2818\n",
            "Epoch 205/300\n",
            "157/157 [==============================] - 1s 7ms/step - loss: 0.2842\n",
            "Epoch 206/300\n",
            "157/157 [==============================] - 1s 7ms/step - loss: 0.2830\n",
            "Epoch 207/300\n",
            "157/157 [==============================] - 1s 7ms/step - loss: 0.2833\n",
            "Epoch 208/300\n",
            "157/157 [==============================] - 1s 7ms/step - loss: 0.2875\n",
            "Epoch 209/300\n",
            "157/157 [==============================] - 1s 7ms/step - loss: 0.2919\n",
            "Epoch 210/300\n",
            "157/157 [==============================] - 1s 7ms/step - loss: 0.2893\n",
            "Epoch 211/300\n",
            "157/157 [==============================] - 1s 7ms/step - loss: 0.2846\n",
            "Epoch 212/300\n",
            "157/157 [==============================] - 1s 7ms/step - loss: 0.2852\n",
            "Epoch 213/300\n",
            "157/157 [==============================] - 1s 7ms/step - loss: 0.2889\n",
            "Epoch 214/300\n",
            "157/157 [==============================] - 1s 7ms/step - loss: 0.2939\n",
            "Epoch 215/300\n",
            "157/157 [==============================] - 1s 7ms/step - loss: 0.2920\n",
            "Epoch 216/300\n",
            "157/157 [==============================] - 1s 7ms/step - loss: 0.2893\n",
            "Epoch 217/300\n",
            "157/157 [==============================] - 1s 7ms/step - loss: 0.3040\n",
            "Epoch 218/300\n",
            "157/157 [==============================] - 1s 7ms/step - loss: 0.2878\n",
            "Epoch 219/300\n",
            "157/157 [==============================] - 1s 7ms/step - loss: 0.2948\n",
            "Epoch 220/300\n",
            "157/157 [==============================] - 1s 7ms/step - loss: 0.2867\n",
            "Epoch 221/300\n",
            "157/157 [==============================] - 1s 7ms/step - loss: 0.2797\n",
            "Epoch 222/300\n",
            "157/157 [==============================] - 1s 7ms/step - loss: 0.2805\n",
            "Epoch 223/300\n",
            "157/157 [==============================] - 1s 7ms/step - loss: 0.2817\n",
            "Epoch 224/300\n",
            "157/157 [==============================] - 1s 7ms/step - loss: 0.2880\n",
            "Epoch 225/300\n",
            "157/157 [==============================] - 1s 7ms/step - loss: 0.2797\n",
            "Epoch 226/300\n",
            "157/157 [==============================] - 1s 7ms/step - loss: 0.2750\n",
            "Epoch 227/300\n",
            "157/157 [==============================] - 1s 7ms/step - loss: 0.2802\n",
            "Epoch 228/300\n",
            "157/157 [==============================] - 1s 7ms/step - loss: 0.2815\n",
            "Epoch 229/300\n",
            "157/157 [==============================] - 1s 7ms/step - loss: 0.2853\n",
            "Epoch 230/300\n",
            "157/157 [==============================] - 1s 7ms/step - loss: 0.2849\n",
            "Epoch 231/300\n",
            "157/157 [==============================] - 1s 7ms/step - loss: 0.2808\n",
            "Epoch 232/300\n",
            "157/157 [==============================] - 1s 7ms/step - loss: 0.2798\n",
            "Epoch 233/300\n",
            "157/157 [==============================] - 1s 7ms/step - loss: 0.2804\n",
            "Epoch 234/300\n",
            "157/157 [==============================] - 1s 7ms/step - loss: 0.2786\n",
            "Epoch 235/300\n",
            "157/157 [==============================] - 1s 7ms/step - loss: 0.2876\n",
            "Epoch 236/300\n",
            "157/157 [==============================] - 1s 7ms/step - loss: 0.2854\n",
            "Epoch 237/300\n",
            "157/157 [==============================] - 1s 7ms/step - loss: 0.2795\n",
            "Epoch 238/300\n",
            "157/157 [==============================] - 1s 7ms/step - loss: 0.2841\n",
            "Epoch 239/300\n",
            "157/157 [==============================] - 1s 7ms/step - loss: 0.2802\n",
            "Epoch 240/300\n",
            "157/157 [==============================] - 1s 7ms/step - loss: 0.2863\n",
            "Epoch 241/300\n",
            "157/157 [==============================] - 1s 7ms/step - loss: 0.2904\n",
            "Epoch 242/300\n",
            "157/157 [==============================] - 1s 7ms/step - loss: 0.2772\n",
            "Epoch 243/300\n",
            "157/157 [==============================] - 1s 7ms/step - loss: 0.2818\n",
            "Epoch 244/300\n",
            "157/157 [==============================] - 1s 7ms/step - loss: 0.2822\n",
            "Epoch 245/300\n",
            "157/157 [==============================] - 1s 7ms/step - loss: 0.2794\n",
            "Epoch 246/300\n",
            "157/157 [==============================] - 1s 7ms/step - loss: 0.2815\n",
            "Epoch 247/300\n",
            "157/157 [==============================] - 1s 7ms/step - loss: 0.2886\n",
            "Epoch 248/300\n",
            "157/157 [==============================] - 1s 7ms/step - loss: 0.2834\n",
            "Epoch 249/300\n",
            "157/157 [==============================] - 1s 7ms/step - loss: 0.2920\n",
            "Epoch 250/300\n",
            "157/157 [==============================] - 1s 7ms/step - loss: 0.2892\n",
            "Epoch 251/300\n",
            "157/157 [==============================] - 1s 7ms/step - loss: 0.2879\n",
            "Epoch 252/300\n",
            "157/157 [==============================] - 1s 7ms/step - loss: 0.2825\n",
            "Epoch 253/300\n",
            "157/157 [==============================] - 1s 7ms/step - loss: 0.2806\n",
            "Epoch 254/300\n",
            "157/157 [==============================] - 1s 7ms/step - loss: 0.2771\n",
            "Epoch 255/300\n",
            "157/157 [==============================] - 1s 7ms/step - loss: 0.2834\n",
            "Epoch 256/300\n",
            "157/157 [==============================] - 1s 7ms/step - loss: 0.2859\n",
            "Epoch 257/300\n",
            "157/157 [==============================] - 1s 7ms/step - loss: 0.2809\n",
            "Epoch 258/300\n",
            "157/157 [==============================] - 1s 7ms/step - loss: 0.2788\n",
            "Epoch 259/300\n",
            "157/157 [==============================] - 1s 7ms/step - loss: 0.2789\n",
            "Epoch 260/300\n",
            "157/157 [==============================] - 1s 7ms/step - loss: 0.2746\n",
            "Epoch 261/300\n",
            "157/157 [==============================] - 1s 7ms/step - loss: 0.2800\n",
            "Epoch 262/300\n",
            "157/157 [==============================] - 1s 7ms/step - loss: 0.2858\n",
            "Epoch 263/300\n",
            "157/157 [==============================] - 1s 7ms/step - loss: 0.2782\n",
            "Epoch 264/300\n",
            "157/157 [==============================] - 1s 7ms/step - loss: 0.2829\n",
            "Epoch 265/300\n",
            "157/157 [==============================] - 1s 7ms/step - loss: 0.2787\n",
            "Epoch 266/300\n",
            "157/157 [==============================] - 1s 7ms/step - loss: 0.2839\n",
            "Epoch 267/300\n",
            "157/157 [==============================] - 1s 7ms/step - loss: 0.2874\n",
            "Epoch 268/300\n",
            "157/157 [==============================] - 1s 7ms/step - loss: 0.2787\n",
            "Epoch 269/300\n",
            "157/157 [==============================] - 1s 7ms/step - loss: 0.2794\n",
            "Epoch 270/300\n",
            "157/157 [==============================] - 1s 7ms/step - loss: 0.2820\n",
            "Epoch 271/300\n",
            "157/157 [==============================] - 1s 7ms/step - loss: 0.2834\n",
            "Epoch 272/300\n",
            "157/157 [==============================] - 1s 7ms/step - loss: 0.2801\n",
            "Epoch 273/300\n",
            "157/157 [==============================] - 1s 7ms/step - loss: 0.2853\n",
            "Epoch 274/300\n",
            "157/157 [==============================] - 1s 7ms/step - loss: 0.2839\n",
            "Epoch 275/300\n",
            "157/157 [==============================] - 1s 7ms/step - loss: 0.2819\n",
            "Epoch 276/300\n",
            "157/157 [==============================] - 1s 7ms/step - loss: 0.2838\n",
            "Epoch 277/300\n",
            "157/157 [==============================] - 1s 7ms/step - loss: 0.2748\n",
            "Epoch 278/300\n",
            "157/157 [==============================] - 1s 7ms/step - loss: 0.2779\n",
            "Epoch 279/300\n",
            "157/157 [==============================] - 1s 7ms/step - loss: 0.2787\n",
            "Epoch 280/300\n",
            "157/157 [==============================] - 1s 7ms/step - loss: 0.2731\n",
            "Epoch 281/300\n",
            "157/157 [==============================] - 1s 7ms/step - loss: 0.2739\n",
            "Epoch 282/300\n",
            "157/157 [==============================] - 1s 7ms/step - loss: 0.2780\n",
            "Epoch 283/300\n",
            "157/157 [==============================] - 1s 7ms/step - loss: 0.2774\n",
            "Epoch 284/300\n",
            "157/157 [==============================] - 1s 7ms/step - loss: 0.2815\n",
            "Epoch 285/300\n",
            "157/157 [==============================] - 1s 7ms/step - loss: 0.2857\n",
            "Epoch 286/300\n",
            "157/157 [==============================] - 1s 7ms/step - loss: 0.2776\n",
            "Epoch 287/300\n",
            "157/157 [==============================] - 1s 7ms/step - loss: 0.2806\n",
            "Epoch 288/300\n",
            "157/157 [==============================] - 1s 7ms/step - loss: 0.2819\n",
            "Epoch 289/300\n",
            "157/157 [==============================] - 1s 7ms/step - loss: 0.2841\n",
            "Epoch 290/300\n",
            "157/157 [==============================] - 1s 7ms/step - loss: 0.2786\n",
            "Epoch 291/300\n",
            "157/157 [==============================] - 1s 7ms/step - loss: 0.2758\n",
            "Epoch 292/300\n",
            "157/157 [==============================] - 1s 7ms/step - loss: 0.2753\n",
            "Epoch 293/300\n",
            "157/157 [==============================] - 1s 7ms/step - loss: 0.2730\n",
            "Epoch 294/300\n",
            "157/157 [==============================] - 1s 7ms/step - loss: 0.2834\n",
            "Epoch 295/300\n",
            "157/157 [==============================] - 1s 7ms/step - loss: 0.2820\n",
            "Epoch 296/300\n",
            "157/157 [==============================] - 1s 7ms/step - loss: 0.2713\n",
            "Epoch 297/300\n",
            "157/157 [==============================] - 1s 7ms/step - loss: 0.2830\n",
            "Epoch 298/300\n",
            "157/157 [==============================] - 1s 7ms/step - loss: 0.2790\n",
            "Epoch 299/300\n",
            "157/157 [==============================] - 1s 7ms/step - loss: 0.2835\n",
            "Epoch 300/300\n",
            "157/157 [==============================] - 1s 7ms/step - loss: 0.2776\n"
          ],
          "name": "stdout"
        },
        {
          "output_type": "execute_result",
          "data": {
            "text/plain": [
              "<tensorflow.python.keras.callbacks.History at 0x7fa1b028f750>"
            ]
          },
          "metadata": {
            "tags": []
          },
          "execution_count": 56
        }
      ]
    },
    {
      "cell_type": "code",
      "metadata": {
        "id": "FAxZ0-gcAZ3G"
      },
      "source": [
        "a=x[0]"
      ],
      "execution_count": 57,
      "outputs": []
    },
    {
      "cell_type": "code",
      "metadata": {
        "colab": {
          "base_uri": "https://localhost:8080/"
        },
        "id": "_7jDLDFKB7Wy",
        "outputId": "ae27ed33-3adc-4a3b-f705-391593099e21"
      },
      "source": [
        "a"
      ],
      "execution_count": 58,
      "outputs": [
        {
          "output_type": "execute_result",
          "data": {
            "text/plain": [
              "array([ 11,  60, 269,   0,   0], dtype=int32)"
            ]
          },
          "metadata": {
            "tags": []
          },
          "execution_count": 58
        }
      ]
    },
    {
      "cell_type": "code",
      "metadata": {
        "id": "2Zo9kHiUB7-h"
      },
      "source": [
        "a=d['English'][0]"
      ],
      "execution_count": 63,
      "outputs": []
    },
    {
      "cell_type": "code",
      "metadata": {
        "id": "5gZ8t6dvB-qD"
      },
      "source": [
        "a=eng_token.texts_to_sequences([a])\n",
        "a=pad_sequences(a,maxlen=length,padding='post')"
      ],
      "execution_count": 65,
      "outputs": []
    },
    {
      "cell_type": "code",
      "metadata": {
        "colab": {
          "base_uri": "https://localhost:8080/"
        },
        "id": "q6nlcwZtCI2L",
        "outputId": "c8afd157-680f-4c33-89fe-91ed3c3bf51c"
      },
      "source": [
        "a"
      ],
      "execution_count": 66,
      "outputs": [
        {
          "output_type": "execute_result",
          "data": {
            "text/plain": [
              "array([[ 11,  60, 269,   0,   0]], dtype=int32)"
            ]
          },
          "metadata": {
            "tags": []
          },
          "execution_count": 66
        }
      ]
    },
    {
      "cell_type": "code",
      "metadata": {
        "id": "-jXaWJiDCJHH"
      },
      "source": [
        "b=model.predict(a)"
      ],
      "execution_count": 68,
      "outputs": []
    },
    {
      "cell_type": "code",
      "metadata": {
        "colab": {
          "base_uri": "https://localhost:8080/"
        },
        "id": "diG4HL3HCRCP",
        "outputId": "1010d9c7-8aa3-4c0d-b366-062522e75daf"
      },
      "source": [
        "b.shape"
      ],
      "execution_count": 69,
      "outputs": [
        {
          "output_type": "execute_result",
          "data": {
            "text/plain": [
              "(1, 5, 2280)"
            ]
          },
          "metadata": {
            "tags": []
          },
          "execution_count": 69
        }
      ]
    },
    {
      "cell_type": "code",
      "metadata": {
        "colab": {
          "base_uri": "https://localhost:8080/"
        },
        "id": "cxIZPDhICVM5",
        "outputId": "75830b74-3214-464c-909b-bac53f048538"
      },
      "source": [
        "b[0].shape"
      ],
      "execution_count": 71,
      "outputs": [
        {
          "output_type": "execute_result",
          "data": {
            "text/plain": [
              "(5, 2280)"
            ]
          },
          "metadata": {
            "tags": []
          },
          "execution_count": 71
        }
      ]
    },
    {
      "cell_type": "code",
      "metadata": {
        "id": "_agLG47NCWY6"
      },
      "source": [
        "b=b[0]"
      ],
      "execution_count": 72,
      "outputs": []
    },
    {
      "cell_type": "code",
      "metadata": {
        "colab": {
          "base_uri": "https://localhost:8080/"
        },
        "id": "r005GjmICZ5j",
        "outputId": "223e282f-8032-4db0-93d6-a42f9d32359c"
      },
      "source": [
        "b.shape"
      ],
      "execution_count": 73,
      "outputs": [
        {
          "output_type": "execute_result",
          "data": {
            "text/plain": [
              "(5, 2280)"
            ]
          },
          "metadata": {
            "tags": []
          },
          "execution_count": 73
        }
      ]
    },
    {
      "cell_type": "code",
      "metadata": {
        "id": "x8qSkwk9CazR"
      },
      "source": [
        "indices=[np.argmax(vect) for vect in b]"
      ],
      "execution_count": 75,
      "outputs": []
    },
    {
      "cell_type": "code",
      "metadata": {
        "id": "xfdy4m-lCf1O"
      },
      "source": [
        "text=[]\n",
        "for i in indices:\n",
        "  word=french_tokens.index_word.get(i,None)\n",
        "  if word is None:\n",
        "    break\n",
        "  \n",
        "  text.append(word)"
      ],
      "execution_count": 77,
      "outputs": []
    },
    {
      "cell_type": "code",
      "metadata": {
        "colab": {
          "base_uri": "https://localhost:8080/",
          "height": 35
        },
        "id": "M8dciAYZCtdu",
        "outputId": "0528e116-fbc0-4502-810f-9da40d1379a7"
      },
      "source": [
        "' '.join(text)"
      ],
      "execution_count": 78,
      "outputs": [
        {
          "output_type": "execute_result",
          "data": {
            "application/vnd.google.colaboratory.intrinsic+json": {
              "type": "string"
            },
            "text/plain": [
              "'é o meu trabalho'"
            ]
          },
          "metadata": {
            "tags": []
          },
          "execution_count": 78
        }
      ]
    },
    {
      "cell_type": "code",
      "metadata": {
        "id": "aGyakmMFC8Rv"
      },
      "source": [
        ""
      ],
      "execution_count": null,
      "outputs": []
    }
  ]
}